{
  "nbformat": 4,
  "nbformat_minor": 0,
  "metadata": {
    "colab": {
      "provenance": [],
      "include_colab_link": true
    },
    "kernelspec": {
      "name": "python3",
      "display_name": "Python 3"
    },
    "language_info": {
      "name": "python"
    }
  },
  "cells": [
    {
      "cell_type": "markdown",
      "metadata": {
        "id": "view-in-github",
        "colab_type": "text"
      },
      "source": [
        "<a href=\"https://colab.research.google.com/github/ayushtyagi14/shebuilds/blob/main/Chatbot_MoodDetector.ipynb\" target=\"_parent\"><img src=\"https://colab.research.google.com/assets/colab-badge.svg\" alt=\"Open In Colab\"/></a>"
      ]
    },
    {
      "cell_type": "code",
      "source": [
        "import pandas as pd\n",
        "import time\n",
        "import re\n",
        "import matplotlib.pyplot as plt\n",
        "from sklearn.metrics import accuracy_score\n",
        "from sklearn.model_selection import train_test_split\n",
        "from sklearn.linear_model import LogisticRegression\n",
        "from sklearn.feature_extraction.text import TfidfVectorizer\n",
        "from sklearn.pipeline import Pipeline\n",
        "from sklearn.preprocessing import LabelEncoder\n",
        "import spacy\n",
        "import os"
      ],
      "metadata": {
        "id": "gnSd-bgWXgiR"
      },
      "execution_count": null,
      "outputs": []
    },
    {
      "cell_type": "code",
      "source": [
        "intents = {\n",
        "    'hi' : ['hello','hey','hi!','hi'],\n",
        "    'bye' : ['goodbye','buhbye','bye'],\n",
        "    'depression' : ['depressed','sad','worried','despair','misery','bad'],\n",
        "    'anxiety' : ['anxiety','anxious','nervous','stress','strain','tension','discomfort','tensed'],\n",
        "    'paranoia' :['disbelieve', 'distrustful', 'doubting', 'incredulous','mistrustful', 'negativistic','questioning','show-me','skeptical','suspecting','suspicious','unbelieving'],\n",
        "    'sleeping_disorder' :['restlessness','indisposition','sleeplessness','stress','tension','vigil','vigilance','wakefulness'],\n",
        "    'substance_abuse' :['alcohol abuse','drug abuse','drug use','addiction','alcoholic addiction','alcoholism','chemical abuse','dipsomania','drug dependence','drug habit','narcotics abuse','solvent abuse'],\n",
        "    'personality_disorder':['insanity','mental disorder','schizophrenia','craziness','delusions','depression','derangement','disturbed mind','emotional disorder','emotional instability',\n",
        "                            'loss of mind','lunacy','madness','maladjustment','mania','mental disease','mental sickness','nervous breakdown','nervous disorder',\n",
        "                            'neurosis','neurotic disorder','paranoia','phobia','psychopathy','psychosis','sick mind','troubled mind','unbalanced mind','unsoundness of mind'],\n",
        "    'happy':['good','great','relieved','happy','okay']\n",
        "}\n",
        "\n",
        "responses = {\n",
        "    'hi' : 'Hello, i am a medical healthcare chatbot!',\n",
        "    'bye' : 'Thank you for your time!',\n",
        "    'default' : 'Sorry, i am not able to understand you'\n",
        "}\n"
      ],
      "metadata": {
        "id": "26O3txlnX0RQ"
      },
      "execution_count": null,
      "outputs": []
    },
    {
      "cell_type": "code",
      "source": [
        "dictionary = {\n",
        "    'a':0,\n",
        "    'b' : 0,\n",
        "    'c' : 0,\n",
        "    'd' : 0\n",
        "}\n",
        "\n",
        "s = {\n",
        "    'a':0,\n",
        "    'b' : 1,\n",
        "    'c' : 2,\n",
        "    'd' : 3\n",
        "}\n",
        "\n",
        "questions = [\"Do you have little interest or pleasure in doing things?\",\"Feeling down, depressed, or hopeless\",\"Trouble falling or staying asleep, or sleeping too much\",\"Feeling tired or having little energy\",\"Feeling bad about yourself - or that you are a failure or have let yourself or your family down\"]"
      ],
      "metadata": {
        "id": "vFJTI1ujX5Jk"
      },
      "execution_count": null,
      "outputs": []
    },
    {
      "cell_type": "code",
      "source": [
        "data = pd.read_csv(\"training.csv\", header=0, \\\n",
        "                    delimiter=\",\", quoting=2)\n",
        "test_data=pd.read_csv(\"test.csv\")"
      ],
      "metadata": {
        "id": "aszvxxPuX_NP"
      },
      "execution_count": null,
      "outputs": []
    },
    {
      "cell_type": "code",
      "source": [
        "bot = \"BOT: {0}\"\n",
        "user =  \"USER: {0}\"\n",
        "\n",
        "#data = data[0:100]\n",
        "data['label'].value_counts().plot.bar()\n",
        "plt.show()"
      ],
      "metadata": {
        "colab": {
          "base_uri": "https://localhost:8080/",
          "height": 271
        },
        "id": "zGoWTEllYFGy",
        "outputId": "baf17f5c-b63c-4ff9-cec6-eb050a88d78f"
      },
      "execution_count": null,
      "outputs": [
        {
          "output_type": "display_data",
          "data": {
            "text/plain": [
              "<Figure size 432x288 with 1 Axes>"
            ],
            "image/png": "[encoded data removed]"
          },
          "metadata": {
            "needs_background": "light"
          }
        }
      ]
    },
    {
      "cell_type": "code",
      "source": [
        "X = data['text']\n",
        "y = data['label']\n",
        "\n",
        "X_train = data.text\n",
        "y_train = data.label\n",
        "X_test = test_data.text\n",
        "y_test = test_data.label\n",
        "\n",
        "vectorizer = TfidfVectorizer( max_df= 0.9).fit(X_train)\n",
        "X_train = vectorizer.transform(X_train)\n",
        "X_test = vectorizer.transform(X_test)\n",
        "print(X_train.shape)\n",
        "\n",
        "encoder = LabelEncoder().fit(y_train)\n",
        "y_train = encoder.transform(y_train)\n",
        "y_test = encoder.transform(y_test)\n"
      ],
      "metadata": {
        "colab": {
          "base_uri": "https://localhost:8080/"
        },
        "id": "adR2w0nOYLmj",
        "outputId": "07b32789-d210-40ba-9ebc-c65333efcb60"
      },
      "execution_count": null,
      "outputs": [
        {
          "output_type": "stream",
          "name": "stdout",
          "text": [
            "(16000, 15186)\n"
          ]
        }
      ]
    },
    {
      "cell_type": "code",
      "source": [
        "\n",
        "model = LogisticRegression(C=.1, class_weight='balanced')\n",
        "model.fit(X_train, y_train)\n",
        "y_pred_train = model.predict(X_train)\n",
        "y_pred_test = model.predict(X_test)\n",
        "print(\"Training Accuracy : \", accuracy_score(y_train, y_pred_train))\n",
        "print(\"Testing Accuracy  : \", accuracy_score(y_test, y_pred_test))\n",
        "\n",
        "negative = 0\n",
        "positive = 0"
      ],
      "metadata": {
        "colab": {
          "base_uri": "https://localhost:8080/"
        },
        "id": "yc3qx8IiYRCc",
        "outputId": "63452e7b-39ff-45d2-ba6f-7f45bf7aa292"
      },
      "execution_count": null,
      "outputs": [
        {
          "output_type": "stream",
          "name": "stdout",
          "text": [
            "Training Accuracy :  0.846625\n",
            "Testing Accuracy  :  0.8\n"
          ]
        }
      ]
    },
    {
      "cell_type": "code",
      "source": [
        "def intent(message):\n",
        "    for words in intents.keys():\n",
        "        pattern = re.compile('|'.join([syn for syn in intents[words]]))\n",
        "        match = pattern.search(message)\n",
        "        if match:\n",
        "            return words\n",
        "    return 'default'\n",
        "\n",
        "def respond(message):\n",
        "    word = intent(message)\n",
        "    return responses[word]\n",
        "\n",
        "\n",
        "def score(name):\n",
        "    sc = 0\n",
        "    for k in dictionary.keys():\n",
        "        sc += dictionary[k]*s[k]\n",
        "    print(\"Your mental assessment score is \",sc)\n",
        "    if(sc >=0 and sc <=9):\n",
        "        print(bot.format(\"Don't need to worry this is an acute condition. What's your mood now after opening up?\"))\n",
        "        message = input().lower()\n",
        "        m_intent = intent(message)\n",
        "        if(m_intent == 'depression'):\n",
        "            depression(name)\n",
        "        elif(m_intent == 'anxiety'):\n",
        "            anxiety(name)\n",
        "        elif(m_intent == 'sleeping disorder'):\n",
        "            sleeping_disorder(name)\n",
        "        elif(m_intent == 'paranoia'):\n",
        "            paranoia(name)\n",
        "        elif(m_intent == 'personality_disorder'):\n",
        "            personality_disorder(name)\n",
        "        elif(m_intent == substance_abuse):\n",
        "            substance_abuse(name)\n",
        "        elif(m_intent == 'happy'):\n",
        "            time.sleep(1)\n",
        "            print(bot.format(\"That's great to hear.Bye have a nice day!\"))\n",
        "        else:\n",
        "            print(bot.format(\"Please ask me for help whenever you feel like it! I'm always online.\"))\n",
        "    elif sc >=10:\n",
        "        extreme(name)\n",
        "\n",
        "def extreme(name):\n",
        "    print(bot.format(\"This is an extreme case, for further assistance we would advise you to connect with a mental health expert\"))\n",
        "    "
      ],
      "metadata": {
        "id": "eVl62oWrYVGe"
      },
      "execution_count": null,
      "outputs": []
    },
    {
      "cell_type": "code",
      "source": [
        "def quiz(name):\n",
        "    time.sleep(1)\n",
        "    print(bot.format(\"Now we're starting with a small assessment and hopefully at the end of the assessment,we'll be able to evaluate your mental health\"))\n",
        "    print()\n",
        "    time.sleep(0.8)\n",
        "    print(bot.format(\"To respond please type the following answer depending upon your choice\"))\n",
        "    print(\"A. not at all\")\n",
        "    print(\"B. several days\")\n",
        "    print(\"C. more than half a day\")\n",
        "    print(\"D. all the days\")\n",
        "    print()\n",
        "    time.sleep(1)\n",
        "    print(\"Now we'll be starting with the quiz,type okay if you're ready!\")\n",
        "    inp = input().lower()\n",
        "    if inp == 'okay':\n",
        "        for sentence in questions:\n",
        "            time.sleep(1)\n",
        "            print(bot.format(sentence))\n",
        "            resp = input().lower()\n",
        "            dictionary[resp]=dictionary[resp]+1\n",
        "    else:\n",
        "        greet()\n",
        "    print()\n",
        "    time.sleep(1)\n",
        "    print(\"Thank you for taking the assessment!\")\n",
        "    for k in dictionary.keys():\n",
        "        print(k,dictionary[k])\n",
        "    score(name)"
      ],
      "metadata": {
        "id": "1JOzv4u2YVJx"
      },
      "execution_count": null,
      "outputs": []
    },
    {
      "cell_type": "code",
      "source": [
        "def predict_(x):\n",
        "    tfidf = vectorizer.transform([x])\n",
        "    preds = model.predict(tfidf)\n",
        "    probab = model.predict_proba(tfidf)[0][preds]\n",
        "    print(preds,probab)\n",
        "    feeling(preds,probab)\n",
        "    return preds\n",
        "\n",
        "def feeling(pred,probab):\n",
        "    global negative,positive\n",
        "    if pred == 0 or pred == 1 or pred == 4:\n",
        "        negative = negative + 1;\n",
        "        if probab >= 0.5:\n",
        "            time.sleep(1)\n",
        "            print(bot.format(\"Oh, sorry to hear that!\"))\n",
        "        else:\n",
        "            time.sleep(1)\n",
        "            print(bot.format(\"Okay, thanks for sharing.\"))\n",
        "    else:\n",
        "        positive = positive + 1;\n",
        "        if probab >= 0.5:\n",
        "            time.sleep(1)\n",
        "            print(bot.format(\"That's great to hear!\"))\n",
        "        else:\n",
        "            time.sleep(1)\n",
        "            print(bot.format(\"Okay, thanks for sharing.\"))\n",
        "\n",
        "def classification(pred):\n",
        "    if pred == 0 or pred == 1 or pred ==4:\n",
        "        return 0\n",
        "    else:\n",
        "        return 1\n",
        "\n",
        "def name_extraction(message):\n",
        "    doc = nlp(message)\n",
        "    name = ''\n",
        "    for ent in doc.ents:\n",
        "        if ent.label_==\"PERSON\":\n",
        "            return str(ent)\n",
        "    x = message.split()\n",
        "    if len(x)<=2:\n",
        "        return (x[0])\n",
        "    elif (' '.join(x[0:3]).lower())=='my name is':\n",
        "        return ''.join(x[3:])\n",
        "\n",
        "def cbt():\n",
        "    time.sleep(1)\n",
        "    print(bot.format(\"Mood tracking and thinking hygiene - among other useful concepts - are skills you'll learn as you practice CBT\"))\n",
        "    time.sleep(1)\n",
        "    print(bot.format(\"Skills that can help you make positive changes to your thoughts, feelings and behaviour\"))\n"
      ],
      "metadata": {
        "id": "T6TE-qaQYVM9"
      },
      "execution_count": null,
      "outputs": []
    },
    {
      "cell_type": "code",
      "source": [
        "def depression(name):\n",
        "    time.sleep(1)\n",
        "    print(bot.format('Gosh, that is tough'))\n",
        "    time.sleep(1)\n",
        "    print(bot.format('I am sorry to hear that,'),name)\n",
        "    time.sleep(1)\n",
        "    print(bot.format('Here is a thought that might motivate you!'))\n",
        "    time.sleep(1)\n",
        "    print(bot.format('There you go...let it all slide out.Unhappiness cannot stick in a person\\'s soul when it\\'s slick with tear.'))\n",
        "\n",
        "def anxiety(name):\n",
        "    time.sleep(1)\n",
        "    print(bot.format('Gosh, that is tough'))\n",
        "    time.sleep(1)\n",
        "    print(bot.format('I am sorry to hear that,'),name)\n",
        "    time.sleep(1)\n",
        "    print(bot.format('Here is a thought that might motivate you!'))\n",
        "    time.sleep(1)\n",
        "    print(bot.format('Take a deep breath, listen to your thoughts, try to figure them out. Then take things one day at a time.'))\n",
        "\n",
        "def paranoia(name):\n",
        "    time.sleep(1)\n",
        "    print(bot.format('Gosh, that is tough'))\n",
        "    time.sleep(1)\n",
        "    print(bot.format('I am sorry to hear that,'),name)\n",
        "    time.sleep(1)\n",
        "    print(bot.format('Here is a thought that might motivate you!'))\n",
        "    time.sleep(1)\n",
        "    print(bot.format('If you want someone, you have to be willing to wait for them and trust that what you have is real and strong enough for them to wait for you. If somebody jumps ship for you, that fact will always haunt you because you\\'ll know they\\'re light on their feet. Spare yourself the paranoia and the pain and walk away until the coast is clear.'))\n",
        "\n",
        "def sleeping_disorder(name):\n",
        "    time.sleep(1)\n",
        "    print(bot.format('Gosh, that is tough'))\n",
        "    time.sleep(1)\n",
        "    print(bot.format('I am sorry to hear that,'),name)\n",
        "    time.sleep(1)\n",
        "    print(bot.format('Here is a thought that might motivate you!'))\n",
        "    time.sleep(1)\n",
        "    print(bot.format('Overhead, the glass envelope of the Insomnia Balloon is malfunctioning. It blinks on and off at arrhythmic intervals, making the world go gray:black, gray:black. In the distance, a knot of twisted trees flashes like cerebral circuitry.'))\n",
        "\n",
        "def personality_disorder(name):\n",
        "    time.sleep(1)\n",
        "    print(bot.format('Gosh, that is tough'))\n",
        "    time.sleep(1)\n",
        "    print(bot.format('I am sorry to hear that,'),name)\n",
        "    time.sleep(1)\n",
        "    print(bot.format('Here is a thought that might motivate you!'))\n",
        "    time.sleep(1)\n",
        "    print(bot.format('...repeated trauma in childhood forms and deforms the personality. The child trapped in an abusive environment is faced with formidable tasks of adaptation. She must find a way to preserve a sense of trust in people who are untrustworthy, safety in a situation that is unsafe, control in a situation that is terrifyingly unpredictable, power in a situation of helplessness. Unable to care for or protect herself, she must compensate for the failures of adult care and protection with the only means at her disposal, an immature system of psychological defenses.'))\n",
        "\n",
        "def substance_abuse(name):\n",
        "    time.sleep(1)\n",
        "    print(bot.format('Gosh, that is tough'))\n",
        "    time.sleep(1)\n",
        "    print(bot.format('I am sorry to hear that,'),name)\n",
        "    time.sleep(1)\n",
        "    print(bot.format('Here is a thought that might motivate you!'))\n",
        "    time.sleep(1)\n",
        "    print(bot.format(' My Recovery Must Come First So That Everything I Love In Life Doesn’t Have To Come Last.'))\n"
      ],
      "metadata": {
        "id": "xd-L0aXTYVP6"
      },
      "execution_count": null,
      "outputs": []
    },
    {
      "cell_type": "code",
      "source": [
        "def greet():\n",
        "    global negative,positive\n",
        "    while True:\n",
        "        time.sleep(1)\n",
        "        negative = 0\n",
        "        positive = 0\n",
        "        print(bot.format('Hi! I\\'m the Mood Tracker chatbot!'))\n",
        "        time.sleep(1)\n",
        "        print(bot.format('Before we proceed, may I know your first name?'))\n",
        "        message = input()\n",
        "        name = message\n",
        "        time.sleep(1)\n",
        "        print(bot.format(name),\", That's a nice name!\")\n",
        "        time.sleep(1)\n",
        "        print(bot.format(\"Before we get started, I want to know about your current mood\"))\n",
        "        message = input().lower()\n",
        "        sentiment = predict_(message)\n",
        "        time.sleep(1)\n",
        "        print(bot.format(\"So\"),name,\"You can consult with me during difficult times, and also not-so-difficult times. Do you wanna know a little more?\")\n",
        "        time.sleep(1)\n",
        "        message = input().lower()\n",
        "        sentiment = predict_(message)\n",
        "        pos = classification(sentiment)\n",
        "        if pos == 1:\n",
        "            cbt()\n",
        "        print(bot.format(name),\",can you walk me through how did your last week go?\")\n",
        "        time.sleep(1)\n",
        "        message = input().lower()\n",
        "        sentiment = predict_(message)\n",
        "        pos = classification(sentiment)\n",
        "        if pos == 0:\n",
        "            time.sleep(1)\n",
        "            print(bot.format(name),\"I know that question can be tough and sometime painful to answer so I really appreciate you doing it\")\n",
        "        time.sleep(1)\n",
        "        print(bot.format(\"Can you tell me a bit about what's going on in your life that has brought you here today?\"))\n",
        "        message = input().lower()\n",
        "        sentiment = predict_(message)\n",
        "        if(negative == 0):\n",
        "            time.sleep(1)\n",
        "            print(bot.format(\"That's awesome! You are showing improvement!\"))\n",
        "            time.sleep(1)\n",
        "        else:\n",
        "            time.sleep(1)\n",
        "            print(bot.format('I have got great tools for people dealing with stress,wanna give it a go,Yes/No?'))\n",
        "            time.sleep(1)\n",
        "            message = input().lower()\n",
        "            if  message == 'yes':\n",
        "                print(bot.format(\"Great! Thanks for trusting me\",name))\n",
        "                time.sleep(1)\n",
        "                print(bot.format(\"Let's start with a small mental assessment test,so buckle up!\"))\n",
        "                time.sleep(1)\n",
        "                quiz(name)\n",
        "            else:\n",
        "                time.sleep(1)\n",
        "                print(bot.format(\"Please ask me for help whenever you feel like it! I'm always online.\"))\n",
        "\n",
        "        \n",
        "\n",
        "greet()"
      ],
      "metadata": {
        "id": "vExsag89YVTK",
        "colab": {
          "base_uri": "https://localhost:8080/",
          "height": 1000
        },
        "outputId": "f8dd26f8-ae51-4e4a-be5b-249df1e0caa5"
      },
      "execution_count": null,
      "outputs": [
        {
          "output_type": "stream",
          "name": "stdout",
          "text": [
            "BOT: Hi! I'm the Mood Tracker chatbot!\n",
            "BOT: Before we proceed, may I know your first name?\n",
            "Navya\n",
            "BOT: Navya , That's a nice name!\n",
            "BOT: Before we get started, I want to know about your current mood\n",
            "Exhausted\n",
            "[0] [0.43089079]\n",
            "BOT: Okay, thanks for sharing.\n",
            "BOT: So Navya You can consult with me during difficult times, and also not-so-difficult times. Do you wanna know a little more?\n",
            "yes\n",
            "[1] [0.20148522]\n",
            "BOT: Okay, thanks for sharing.\n",
            "BOT: Navya ,can you walk me through how did your last week go?\n",
            "hectic due to exams\n",
            "[1] [0.21385798]\n",
            "BOT: Okay, thanks for sharing.\n",
            "BOT: Navya I know that question can be tough and sometime painful to answer so I really appreciate you doing it\n",
            "BOT: Can you tell me a bit about what's going on in your life that has brought you here today?\n",
            "stress\n",
            "[0] [0.2016952]\n",
            "BOT: Okay, thanks for sharing.\n",
            "BOT: I have got great tools for people dealing with stress,wanna give it a go,Yes/No?\n",
            "Yes\n",
            "BOT: Great! Thanks for trusting me\n",
            "BOT: Let's start with a small mental assessment test,so buckle up!\n",
            "BOT: Now we're starting with a small assessment and hopefully at the end of the assessment,we'll be able to evaluate your mental health\n",
            "\n",
            "BOT: To respond please type the following answer depending upon your choice\n",
            "A. not at all\n",
            "B. several days\n",
            "C. more than half a day\n",
            "D. all the days\n",
            "\n",
            "Now we'll be starting with the quiz,type okay if you're ready!\n",
            "okay\n",
            "BOT: Do you have little interest or pleasure in doing things?\n",
            "A\n",
            "BOT: Feeling down, depressed, or hopeless\n",
            "C\n",
            "BOT: Trouble falling or staying asleep, or sleeping too much\n",
            "A\n",
            "BOT: Feeling tired or having little energy\n",
            "C\n",
            "BOT: Feeling bad about yourself - or that you are a failure or have let yourself or your family down\n",
            "C\n",
            "\n",
            "Thank you for taking the assessment!\n",
            "a 2\n",
            "b 0\n",
            "c 3\n",
            "d 0\n",
            "Your mental assessment score is  6\n",
            "BOT: Don't need to worry this is an acute condition. What's your mood now after opening up?\n",
            "relieved\n",
            "BOT: That's great to hear.Bye have a nice day!\n",
            "BOT: Hi! I'm the Mood Tracker chatbot!\n",
            "BOT: Before we proceed, may I know your first name?\n"
          ]
        },
        {
          "output_type": "error",
          "ename": "KeyboardInterrupt",
          "evalue": "ignored",
          "traceback": [
            "\u001b[0;31m---------------------------------------------------------------------------\u001b[0m",
            "\u001b[0;31mKeyboardInterrupt\u001b[0m                         Traceback (most recent call last)",
            "\u001b[0;32m<ipython-input-147-c95ce3b177c5>\u001b[0m in \u001b[0;36m<module>\u001b[0;34m\u001b[0m\n\u001b[1;32m     57\u001b[0m \u001b[0;34m\u001b[0m\u001b[0m\n\u001b[1;32m     58\u001b[0m \u001b[0;34m\u001b[0m\u001b[0m\n\u001b[0;32m---> 59\u001b[0;31m \u001b[0mgreet\u001b[0m\u001b[0;34m(\u001b[0m\u001b[0;34m)\u001b[0m\u001b[0;34m\u001b[0m\u001b[0;34m\u001b[0m\u001b[0m\n\u001b[0m",
            "\u001b[0;32m<ipython-input-147-c95ce3b177c5>\u001b[0m in \u001b[0;36mgreet\u001b[0;34m()\u001b[0m\n\u001b[1;32m      8\u001b[0m         \u001b[0mtime\u001b[0m\u001b[0;34m.\u001b[0m\u001b[0msleep\u001b[0m\u001b[0;34m(\u001b[0m\u001b[0;36m1\u001b[0m\u001b[0;34m)\u001b[0m\u001b[0;34m\u001b[0m\u001b[0;34m\u001b[0m\u001b[0m\n\u001b[1;32m      9\u001b[0m         \u001b[0mprint\u001b[0m\u001b[0;34m(\u001b[0m\u001b[0mbot\u001b[0m\u001b[0;34m.\u001b[0m\u001b[0mformat\u001b[0m\u001b[0;34m(\u001b[0m\u001b[0;34m'Before we proceed, may I know your first name?'\u001b[0m\u001b[0;34m)\u001b[0m\u001b[0;34m)\u001b[0m\u001b[0;34m\u001b[0m\u001b[0;34m\u001b[0m\u001b[0m\n\u001b[0;32m---> 10\u001b[0;31m         \u001b[0mmessage\u001b[0m \u001b[0;34m=\u001b[0m \u001b[0minput\u001b[0m\u001b[0;34m(\u001b[0m\u001b[0;34m)\u001b[0m\u001b[0;34m\u001b[0m\u001b[0;34m\u001b[0m\u001b[0m\n\u001b[0m\u001b[1;32m     11\u001b[0m         \u001b[0mname\u001b[0m \u001b[0;34m=\u001b[0m \u001b[0mmessage\u001b[0m\u001b[0;34m\u001b[0m\u001b[0;34m\u001b[0m\u001b[0m\n\u001b[1;32m     12\u001b[0m         \u001b[0mtime\u001b[0m\u001b[0;34m.\u001b[0m\u001b[0msleep\u001b[0m\u001b[0;34m(\u001b[0m\u001b[0;36m1\u001b[0m\u001b[0;34m)\u001b[0m\u001b[0;34m\u001b[0m\u001b[0;34m\u001b[0m\u001b[0m\n",
            "\u001b[0;32m/usr/local/lib/python3.8/dist-packages/ipykernel/kernelbase.py\u001b[0m in \u001b[0;36mraw_input\u001b[0;34m(self, prompt)\u001b[0m\n\u001b[1;32m    858\u001b[0m                 \u001b[0;34m\"raw_input was called, but this frontend does not support input requests.\"\u001b[0m\u001b[0;34m\u001b[0m\u001b[0;34m\u001b[0m\u001b[0m\n\u001b[1;32m    859\u001b[0m             )\n\u001b[0;32m--> 860\u001b[0;31m         return self._input_request(str(prompt),\n\u001b[0m\u001b[1;32m    861\u001b[0m             \u001b[0mself\u001b[0m\u001b[0;34m.\u001b[0m\u001b[0m_parent_ident\u001b[0m\u001b[0;34m,\u001b[0m\u001b[0;34m\u001b[0m\u001b[0;34m\u001b[0m\u001b[0m\n\u001b[1;32m    862\u001b[0m             \u001b[0mself\u001b[0m\u001b[0;34m.\u001b[0m\u001b[0m_parent_header\u001b[0m\u001b[0;34m,\u001b[0m\u001b[0;34m\u001b[0m\u001b[0;34m\u001b[0m\u001b[0m\n",
            "\u001b[0;32m/usr/local/lib/python3.8/dist-packages/ipykernel/kernelbase.py\u001b[0m in \u001b[0;36m_input_request\u001b[0;34m(self, prompt, ident, parent, password)\u001b[0m\n\u001b[1;32m    902\u001b[0m             \u001b[0;32mexcept\u001b[0m \u001b[0mKeyboardInterrupt\u001b[0m\u001b[0;34m:\u001b[0m\u001b[0;34m\u001b[0m\u001b[0;34m\u001b[0m\u001b[0m\n\u001b[1;32m    903\u001b[0m                 \u001b[0;31m# re-raise KeyboardInterrupt, to truncate traceback\u001b[0m\u001b[0;34m\u001b[0m\u001b[0;34m\u001b[0m\u001b[0;34m\u001b[0m\u001b[0m\n\u001b[0;32m--> 904\u001b[0;31m                 \u001b[0;32mraise\u001b[0m \u001b[0mKeyboardInterrupt\u001b[0m\u001b[0;34m(\u001b[0m\u001b[0;34m\"Interrupted by user\"\u001b[0m\u001b[0;34m)\u001b[0m \u001b[0;32mfrom\u001b[0m \u001b[0;32mNone\u001b[0m\u001b[0;34m\u001b[0m\u001b[0;34m\u001b[0m\u001b[0m\n\u001b[0m\u001b[1;32m    905\u001b[0m             \u001b[0;32mexcept\u001b[0m \u001b[0mException\u001b[0m \u001b[0;32mas\u001b[0m \u001b[0me\u001b[0m\u001b[0;34m:\u001b[0m\u001b[0;34m\u001b[0m\u001b[0;34m\u001b[0m\u001b[0m\n\u001b[1;32m    906\u001b[0m                 \u001b[0mself\u001b[0m\u001b[0;34m.\u001b[0m\u001b[0mlog\u001b[0m\u001b[0;34m.\u001b[0m\u001b[0mwarning\u001b[0m\u001b[0;34m(\u001b[0m\u001b[0;34m\"Invalid Message:\"\u001b[0m\u001b[0;34m,\u001b[0m \u001b[0mexc_info\u001b[0m\u001b[0;34m=\u001b[0m\u001b[0;32mTrue\u001b[0m\u001b[0;34m)\u001b[0m\u001b[0;34m\u001b[0m\u001b[0;34m\u001b[0m\u001b[0m\n",
            "\u001b[0;31mKeyboardInterrupt\u001b[0m: Interrupted by user"
          ]
        }
      ]
    }
  ]
}